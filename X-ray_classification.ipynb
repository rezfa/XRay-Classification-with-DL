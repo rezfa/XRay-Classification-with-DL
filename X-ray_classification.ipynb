{
 "cells": [
  {
   "cell_type": "code",
   "execution_count": 10,
   "metadata": {},
   "outputs": [],
   "source": [
    "import tensorflow as tf\n",
    "from tensorflow import keras\n",
    "from tensorflow.keras.models import Sequential\n",
    "from tensorflow.keras.preprocessing.image import ImageDataGenerator\n",
    "\n",
    "from sklearn.metrics import classification_report\n",
    "from sklearn.metrics import confusion_matrix\n",
    "\n",
    "from tensorflow.keras.callbacks import EarlyStopping\n",
    "from tensorflow.keras import layers\n",
    "\n",
    "import matplotlib.pyplot as plt\n",
    "import numpy as np"
   ]
  },
  {
   "cell_type": "code",
   "execution_count": 20,
   "metadata": {},
   "outputs": [
    {
     "name": "stdout",
     "output_type": "stream",
     "text": [
      "Found 251 images belonging to 3 classes.\n",
      "\n",
      "Loading validation data...\n",
      "Found 251 images belonging to 3 classes.\n",
      "\n",
      "Building model...\n"
     ]
    }
   ],
   "source": [
    "Directory = '/Users/rez/Documents/Engineering/Coding/VsCode/classification-challenge/classification-challenge-starter/Covid19-dataset/train'\n",
    "ClassMode = 'categorical'\n",
    "ColorMode = 'grayscale'\n",
    "TargetSize = (256, 256)\n",
    "BatchSize = 32\n",
    "\n",
    "IDG = ImageDataGenerator(\n",
    "    rescale= 1./255,\n",
    "    rotation_range = 25,\n",
    "    width_shift_range = 0.05,\n",
    "    height_shift_range = 0.05\n",
    ")\n",
    "\n",
    "Validation_DG = ImageDataGenerator()\n",
    "\n",
    "training_iterator = IDG.flow_from_directory(Directory, class_mode= 'categorical', color_mode='grayscale', target_size=(256, 256), batch_size=BatchSize)\n",
    "\n",
    "training_iterator.next()\n",
    "print(\"\\nLoading validation data...\")\n",
    "\n",
    "validation_iterator = Validation_DG.flow_from_directory(Directory, class_mode= ClassMode, color_mode=ColorMode, target_size=TargetSize, batch_size=BatchSize)\n",
    "print(\"\\nBuilding model...\")\n"
   ]
  },
  {
   "cell_type": "code",
   "execution_count": 31,
   "metadata": {},
   "outputs": [
    {
     "name": "stderr",
     "output_type": "stream",
     "text": [
      "WARNING:absl:At this time, the v2.11+ optimizer `tf.keras.optimizers.Adam` runs slowly on M1/M2 Macs, please use the legacy Keras optimizer instead, located at `tf.keras.optimizers.legacy.Adam`.\n",
      "WARNING:absl:There is a known slowdown when using v2.11+ Keras optimizers on M1/M2 Macs. Falling back to the legacy Keras optimizer, i.e., `tf.keras.optimizers.legacy.Adam`.\n"
     ]
    },
    {
     "name": "stdout",
     "output_type": "stream",
     "text": [
      "Model: \"sequential_12\"\n",
      "_________________________________________________________________\n",
      " Layer (type)                Output Shape              Param #   \n",
      "=================================================================\n",
      " dense_10 (Dense)            (None, 256, 256, 3)       6         \n",
      "                                                                 \n",
      "=================================================================\n",
      "Total params: 6 (24.00 Byte)\n",
      "Trainable params: 6 (24.00 Byte)\n",
      "Non-trainable params: 0 (0.00 Byte)\n",
      "_________________________________________________________________\n",
      "None\n"
     ]
    },
    {
     "ename": "AttributeError",
     "evalue": "'NoneType' object has no attribute 'fit'",
     "output_type": "error",
     "traceback": [
      "\u001b[0;31m---------------------------------------------------------------------------\u001b[0m",
      "\u001b[0;31mAttributeError\u001b[0m                            Traceback (most recent call last)",
      "Cell \u001b[0;32mIn[31], line 17\u001b[0m\n\u001b[1;32m     13\u001b[0m model \u001b[39m=\u001b[39m design_model(training_iterator)\n\u001b[1;32m     15\u001b[0m es \u001b[39m=\u001b[39m EarlyStopping(monitor\u001b[39m=\u001b[39m\u001b[39m'\u001b[39m\u001b[39mval_auc\u001b[39m\u001b[39m'\u001b[39m, mode\u001b[39m=\u001b[39m\u001b[39m'\u001b[39m\u001b[39mmin\u001b[39m\u001b[39m'\u001b[39m, verbose\u001b[39m=\u001b[39m\u001b[39m1\u001b[39m, patience\u001b[39m=\u001b[39m\u001b[39m20\u001b[39m)\n\u001b[0;32m---> 17\u001b[0m history \u001b[39m=\u001b[39m model\u001b[39m.\u001b[39;49mfit(\n\u001b[1;32m     18\u001b[0m     \n\u001b[1;32m     19\u001b[0m     training_iterator,\n\u001b[1;32m     20\u001b[0m     steps_per_epoch\u001b[39m=\u001b[39mtraining_iterator\u001b[39m.\u001b[39msamples\u001b[39m/\u001b[39mBatchSize, epochs\u001b[39m=\u001b[39m\u001b[39m5\u001b[39m,\n\u001b[1;32m     21\u001b[0m     validation_data\u001b[39m=\u001b[39mvalidation_iterator,\n\u001b[1;32m     22\u001b[0m     validation_steps\u001b[39m=\u001b[39mvalidation_iterator\u001b[39m.\u001b[39msamples\u001b[39m/\u001b[39mBatchSize,\n\u001b[1;32m     23\u001b[0m     callbacks\u001b[39m=\u001b[39m[es]\n\u001b[1;32m     24\u001b[0m )\n",
      "\u001b[0;31mAttributeError\u001b[0m: 'NoneType' object has no attribute 'fit'"
     ]
    }
   ],
   "source": [
    "model = tf.keras.Sequential()\n",
    "\n",
    "def design_model(training_iterator):\n",
    "\n",
    "    model.add(tf.keras.Input(shape=(256,256,1)))\n",
    "\n",
    "    model.add(tf.keras.layers.Conv2D(8, 3, activation='relu'))\n",
    "\n",
    "    model.add(tf.keras.layers.Dense(3, activation='softmax'))\n",
    "\n",
    "    model.compile(optimizer=tf.keras.optimizers.Adam(learning_rate=.001), loss=tf.keras.losses.CategoricalCrossentropy(), metrics=[tf.keras.metrics.CategoricalAccuracy(),tf.keras.metrics.AUC()],)\n",
    "\n",
    "    print(model.summary())\n",
    "\n",
    "model = design_model(training_iterator)\n",
    "\n",
    "es = EarlyStopping(monitor='val_auc', mode='min', verbose=1, patience=20)\n",
    "\n",
    "history = model.fit(\n",
    "\n",
    "    training_iterator,\n",
    "    steps_per_epoch=training_iterator.samples/BatchSize, epochs=5,\n",
    "    validation_data=validation_iterator,\n",
    "    validation_steps=validation_iterator.samples/BatchSize,\n",
    "    callbacks=[es]\n",
    ")"
   ]
  }
 ],
 "metadata": {
  "kernelspec": {
   "display_name": ".venv",
   "language": "python",
   "name": "python3"
  },
  "language_info": {
   "codemirror_mode": {
    "name": "ipython",
    "version": 3
   },
   "file_extension": ".py",
   "mimetype": "text/x-python",
   "name": "python",
   "nbconvert_exporter": "python",
   "pygments_lexer": "ipython3",
   "version": "3.11.3"
  },
  "orig_nbformat": 4
 },
 "nbformat": 4,
 "nbformat_minor": 2
}
